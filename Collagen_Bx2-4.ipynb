{
 "cells": [
  {
   "cell_type": "code",
   "execution_count": null,
   "metadata": {},
   "outputs": [],
   "source": [
    "#load libraries\n",
    "\n",
    "import pandas as pd\n",
    "import matplotlib.pyplot as plt\n",
    "import numpy as np\n",
    "import os\n",
    "import copy\n",
    "import seaborn as sns\n",
    "import importlib\n",
    "import scipy\n",
    "\n",
    "import scanpy as sc\n",
    "from sklearn.cluster import KMeans\n",
    "from sklearn.preprocessing import scale, minmax_scale\n",
    "from sklearn.metrics import silhouette_score\n",
    "import matplotlib as mpl\n",
    "mpl.rc('figure', max_open_warning = 0)\n",
    "#mpl.font_manager._rebuild()\n",
    "mpl.rcParams['mathtext.fontset'] = 'custom'\n",
    "mpl.rcParams['mathtext.it'] = 'Arial:italic'\n",
    "mpl.rcParams['mathtext.rm'] = 'Arial'\n",
    "mpl.rcParams['font.sans-serif'] = \"Arial\"\n",
    "mpl.rcParams['font.family'] = \"sans-serif\"\n",
    "mpl.rc('font', serif='Arial') \n",
    "codedir = os.getcwd()\n",
    "#load cmif libraries\n",
    "#os.chdir('/home/groups/graylab_share/OMERO.rdsStore/engje/Data/cmIF')\n",
    "from mplex_image import visualize as viz, process, preprocess, normalize"
   ]
  },
  {
   "cell_type": "code",
   "execution_count": null,
   "metadata": {},
   "outputs": [],
   "source": [
    "os.chdir(codedir)"
   ]
  },
  {
   "cell_type": "code",
   "execution_count": null,
   "metadata": {},
   "outputs": [],
   "source": [
    "np.random.seed(222)"
   ]
  },
  {
   "cell_type": "markdown",
   "metadata": {},
   "source": [
    "# Table of contents <a name=\"contents\"></a>\n",
    "1. [Load Data](#load)\n",
    "2. [Normalize](#norm)\n",
    "6. [Visualize Normalization](#normviz)\n",
    "[leiden for cell typing](#clusterlei)\n",
    "7. [Cluster K means](#cluster)\n",
    "8. [Leiden cluster](#clust1)\n"
   ]
  },
  {
   "cell_type": "code",
   "execution_count": null,
   "metadata": {},
   "outputs": [],
   "source": [
    "#load data\n",
    "os.chdir(f'{codedir}/paper_data')"
   ]
  },
  {
   "cell_type": "code",
   "execution_count": null,
   "metadata": {},
   "outputs": [],
   "source": [
    "s_date = '20210402'\n",
    "if not os.path.exists(s_date):\n",
    "    os.mkdir(s_date)"
   ]
  },
  {
   "cell_type": "markdown",
   "metadata": {},
   "source": [
    "# Load Data <a name=\"load\"></a>\n",
    "\n",
    "2.\tAs Ki67 is not continuous antigen, can you count positive cells (Proliferative cluster) by distance (<25, 25-50, 50-75, >75) from collagen I in each Bx?\n",
    "\n",
    "3.\tCould you map cells by distance (<25, 25-50, 50-75, >75) from collagen I in each Bx? If you can add a distance column (1-4) in the cluster csv, I can make it in Qi.\n",
    "\n",
    "4.\tCould you try to see the correlation between ER/PCNA and (VIM+aSMA+CD31)? – not necessary to show significance. (see attached image from Bx1 Scene-003)\n",
    "\n",
    "[contents](#contents)"
   ]
  },
  {
   "cell_type": "markdown",
   "metadata": {},
   "source": [
    "### not normalized"
   ]
  },
  {
   "cell_type": "code",
   "execution_count": null,
   "metadata": {},
   "outputs": [],
   "source": [
    "df_mi = pd.read_csv('20210324_SMTBx1-4_JE-TMA-43_60_62_FilteredMeanIntensity.csv',index_col=0) \n",
    "df_mi['slide'] = [item.split('_')[0] for item in df_mi.index]\n",
    "df_mi['slide_scene'] = [item.split('_cell')[0] for item in df_mi.index]"
   ]
  },
  {
   "cell_type": "code",
   "execution_count": null,
   "metadata": {},
   "outputs": [],
   "source": [
    "for s_file in os.listdir():\n",
    "    if s_file.find('MaskDistances') > -1:\n",
    "        print(s_file)\n",
    "df_mask = pd.DataFrame()\n",
    "for s_sample in ['SMT101Bx1-16','SMTBx2-5','SMTBx3','SMTBx4-3','HTA-33']: #'SMT101Bx4-3',\n",
    "    df_mask = df_mask.append(pd.read_csv(f'features_{s_sample}_MaskDistances.csv',index_col=0))"
   ]
  },
  {
   "cell_type": "code",
   "execution_count": null,
   "metadata": {},
   "outputs": [],
   "source": [
    "df_mask.columns\n",
    "ls_target = ['Vim_dist','CD31_dist', 'PDPN_dist',  'aSMA_dist', 'CD68_dist','ColI_dist', 'ColIV_dist']\n",
    "ls_marker =  ['ER_nuclei','Ki67_nuclei','PCNA_nuclei']\n",
    "ls_drop = ['HTA-33_scene001','SMTBx1-16_scene001'#,'SMT101Bx4-3_scene001','SMT101Bx4-3_scene002'\n",
    "          ]"
   ]
  },
  {
   "cell_type": "code",
   "execution_count": null,
   "metadata": {},
   "outputs": [],
   "source": [
    "df = df_mi.merge(df_mask.loc[:,ls_target],left_index=True,right_index=True)\n",
    "df = df[(~df.Vim_dist.isna()) & (~df.slide_scene.isin(ls_drop))]\n",
    "df.loc[:,ls_target] = df.loc[:,ls_target]*.325"
   ]
  },
  {
   "cell_type": "code",
   "execution_count": null,
   "metadata": {
    "scrolled": false
   },
   "outputs": [],
   "source": [
    "#fit\n",
    "data = df.loc[:,ls_marker].T\n",
    "batch = df.slide\n",
    "bayesdata = normalize.combat(data, batch)\n",
    "df_norm = bayesdata.T"
   ]
  },
  {
   "cell_type": "code",
   "execution_count": null,
   "metadata": {},
   "outputs": [],
   "source": [
    "df_norm['slide'] = df.slide\n",
    "df_norm.groupby('slide').mean()\n",
    "df_norm.groupby('slide').std()"
   ]
  },
  {
   "cell_type": "code",
   "execution_count": null,
   "metadata": {},
   "outputs": [],
   "source": [
    "df['Vim-CD31-aSMA_dist'] = df.loc[:,['Vim_dist','CD31_dist','aSMA_dist']].min(axis=1)\n",
    "ls_target = ls_target + ['Vim-CD31-aSMA_dist']"
   ]
  },
  {
   "cell_type": "code",
   "execution_count": null,
   "metadata": {
    "scrolled": true
   },
   "outputs": [],
   "source": [
    "mpl.rcParams['pdf.fonttype'] = 42\n",
    "mpl.rcParams['ps.fonttype'] = 42\n",
    "%matplotlib inline\n",
    "#by tissue no Bx1\n",
    "sns.set(style='white')\n",
    "import matplotlib.ticker as tic\n",
    "import warnings\n",
    "warnings.filterwarnings('ignore')\n",
    "tot = 0\n",
    "ls_dist = [25, 50, 75]\n",
    "i_diff = 25\n",
    "ls_slide = ['SMTBx2-5', 'SMTBx3','SMT1Bx4-3'] #'\n",
    "d_slide = {'SMTBx1-16':'Bx1', 'SMTBx2-5':'Bx2', 'SMTBx3':'Bx3','HTA-33':'Bx4-HTAN','SMTBx4-3':'Bx4'}\n",
    "for s_target in ['ColI_dist', 'ColIV_dist','Vim-CD31-aSMA_dist']:\n",
    "    print(s_target)\n",
    "    fig, ax = plt.subplots(3,2, figsize=(4.5,4),sharex=True,dpi=300)\n",
    "    for idxc, s_slide in enumerate(ls_slide):\n",
    "        print(s_slide)\n",
    "        df_slide = df[df.slide==s_slide]\n",
    "        for idx, s_marker in enumerate(['ER_nuclei', 'PCNA_nuclei']): #,'Ki67_nuclei']):\n",
    "            print(s_marker)\n",
    "            df_result = pd.DataFrame(index=df_slide.index)\n",
    "            for s_dist in ls_dist:\n",
    "                b_bool = (df_slide.loc[:,s_target] < s_dist) & (df_slide.loc[:,s_target] >= s_dist - i_diff)\n",
    "                df_result.loc[b_bool,f'{s_marker}_{s_dist}'] = df_slide.loc[b_bool,s_marker]\n",
    "            for  s_col in df_result.columns:\n",
    "                sns.kdeplot(df_result.loc[:,s_col].dropna(), ax=ax[idxc,idx],\n",
    "                            label=f\"< {s_col.split('_')[2]}\"#,fill=True, alpha=0.3\n",
    "                           )\n",
    "            if df_result.mean().fillna(0)[2] == 0:\n",
    "                statistic, pvalue = scipy.stats.f_oneway(df_result.iloc[:,0].dropna(),df_result.iloc[:,1].dropna())\n",
    "                print(len(df_result.iloc[:,0].dropna()))\n",
    "                print(len(df_result.iloc[:,1].dropna()))\n",
    "            else:\n",
    "                statistic, pvalue = scipy.stats.f_oneway(df_result.iloc[:,0].dropna(),df_result.iloc[:,1].dropna(),df_result.iloc[:,2].dropna())\n",
    "                print(len(df_result.iloc[:,0].dropna()))\n",
    "                print(len(df_result.iloc[:,1].dropna()))\n",
    "                print('over75')\n",
    "                print(len(df_result.iloc[:,2].dropna()))\n",
    "            ax[idxc,idx].set_xlabel(f\"{s_col.split('_')[0]} Intensity\",fontname=\"Arial\",fontsize=18)\n",
    "            ax[idxc,idx].set_ylabel(f\"\")\n",
    "            ax[idxc,idx].set_title(f\"\")\n",
    "            temp = tic.MaxNLocator(3)\n",
    "            ax[idxc,idx].set_yticklabels(())\n",
    "            ax[idxc,idx].xaxis.set_major_locator(temp)\n",
    "            tot+=1\n",
    "            if pvalue < 0.001: # 0.05/30: #bonferoni correction\n",
    "                ax[idxc,idx].text(0.42, 0.87, '*',\n",
    "                     horizontalalignment='center',\n",
    "                     verticalalignment='center',\n",
    "                     transform=ax[idxc,idx].transAxes)\n",
    "            ax[idxc,idx].set_xlim(-1000,5500)\n",
    "            ax[idxc,idx].spines['right'].set_visible(False)\n",
    "            ax[idxc,idx].spines['left'].set_visible(False)\n",
    "            ax[idxc,idx].spines['top'].set_visible(False)\n",
    "            #print(ax[idxc,idx].get_xticklabels())\n",
    "            #ax[idxc,idx].set_xticklabels(ax[idxc,idx].get_xticklabels(),{'fontsize':16})\n",
    "        ax[idxc,0].set_ylabel(f\"{d_slide[s_slide]}\",fontname=\"Arial\",fontsize=18)\n",
    "    ax[2,1].legend(title='$\\mu$m',borderpad=.3,labelspacing=.3,loc=4,fontsize=14)\n",
    "    plt.subplots_adjust(wspace=.001,hspace=.001)\n",
    "    plt.suptitle(f\"Distance to {s_target.split('_')[0]}\",y=.93,fontname=\"Arial\",fontsize=24)\n",
    "    plt.tight_layout()\n",
    "    fig.savefig(f'./{s_date}/IntensityvsDistance_{i_diff}s_{s_target}_by_slide_noBx1.png',dpi=300)\n",
    "    #fig.savefig(f'./{s_date}/IntensityvsDistance_{i_diff}s_{s_target}_by_slide_noBx1.pdf',dpi=200)\n",
    "    #break"
   ]
  },
  {
   "cell_type": "code",
   "execution_count": null,
   "metadata": {
    "scrolled": true
   },
   "outputs": [],
   "source": [
    " 0.05/30"
   ]
  },
  {
   "cell_type": "code",
   "execution_count": null,
   "metadata": {},
   "outputs": [],
   "source": [
    "tot"
   ]
  },
  {
   "cell_type": "code",
   "execution_count": null,
   "metadata": {
    "scrolled": true
   },
   "outputs": [],
   "source": [
    "from matplotlib import gridspec\n",
    "ax_objs = []\n",
    "ls_slide = ['SMTBx2-5', 'SMTBx3','SMT1Bx4-3'] #'\n",
    "d_slide = {'SMTBx1-16':'Bx1', 'SMTBx2-5':'Bx2', 'SMTBx3':'Bx3','HTA-33':'Bx4-HTAN','SMTBx4-3':'Bx4'}\n",
    "for s_target in ['ColI_dist', 'ColIV_dist','Vim-CD31-aSMA_dist']:\n",
    "    fig = plt.figure(figsize=(5.5,3.5),dpi=300)\n",
    "    gs = gridspec.GridSpec(nrows=3,  ncols=2,figure=fig, \n",
    "                       wspace=0.1, hspace=0.05,left=0.1, right=.75\n",
    "                      )\n",
    "    for idxc, s_slide in enumerate(ls_slide):\n",
    "        df_slide = df[df.slide==s_slide]\n",
    "        for idx, s_marker in enumerate(['ER_nuclei', 'PCNA_nuclei']):\n",
    "            ax_objs.append(fig.add_subplot(gs[idxc,idx]))\n",
    "            df_result = pd.DataFrame(index=df_slide.index)\n",
    "            for s_dist in ls_dist:\n",
    "                b_bool = (df_slide.loc[:,s_target] < s_dist) & (df_slide.loc[:,s_target] >= s_dist - i_diff)\n",
    "                df_result.loc[b_bool,f'{s_marker}_{s_dist}'] = df_slide.loc[b_bool,s_marker]\n",
    "            for  s_col in df_result.columns:\n",
    "                g =sns.kdeplot(df_result.loc[:,s_col].dropna(), ax=ax_objs[-1],\n",
    "                               label=f\"< {s_col.split('_')[2]}\"#,fill=True,alpha=0.5\n",
    "                              )\n",
    "            if df_result.mean().fillna(0)[2] == 0:\n",
    "                statistic, pvalue = scipy.stats.f_oneway(df_result.iloc[:,0].dropna(),df_result.iloc[:,1].dropna())\n",
    "                #print(pvalue)\n",
    "            else:\n",
    "                statistic, pvalue = scipy.stats.f_oneway(df_result.iloc[:,0].dropna(),df_result.iloc[:,1].dropna(),df_result.iloc[:,2].dropna())\n",
    "            ax_objs[-1].set_ylabel(f\"\")\n",
    "            ax_objs[-1].set_title(f\"\")\n",
    "            temp = tic.MaxNLocator(3)\n",
    "            ax_objs[-1].set_yticklabels(())\n",
    "            ax_objs[-1].xaxis.set_major_locator(temp)\n",
    "            tot+=1\n",
    "            if pvalue < 0.001: # 0.05/30: #bonferoni correction\n",
    "                ax_objs[-1].text(0.55, 0.65, '*',\n",
    "                     horizontalalignment='center',\n",
    "                     verticalalignment='center',\n",
    "                     transform=ax_objs[-1].transAxes)\n",
    "            ax_objs[-1].set_xlim(-1000,5500)\n",
    "            ax_objs[-1].spines['right'].set_visible(False)\n",
    "            ax_objs[-1].spines['left'].set_visible(False)\n",
    "            ax_objs[-1].spines['top'].set_visible(False)\n",
    "            #ax_objs[-1].spines['bottom'].set_visible(False)\n",
    "            ax_objs[-1].set_xlabel('')\n",
    "            rect = ax_objs[-1].patch\n",
    "            rect.set_alpha(0)\n",
    "            if idx == 0:\n",
    "                ax_objs[-1].set_ylabel(f\"{d_slide[s_slide]}\",fontsize=18)\n",
    "            if idx==1:\n",
    "                if idxc == 2:\n",
    "                    ax_objs[-1].legend(title='$\\mu$m',borderpad=.3,labelspacing=.3,fontsize=12,loc='upper left', bbox_to_anchor=(1.05, 1.5))\n",
    "            if idxc ==2:\n",
    "                ax_objs[-1].set_xlabel(f\"{s_col.split('_')[0]} Intensity\",fontsize=18)\n",
    "            else:\n",
    "                ax_objs[-1].set_xticklabels([])           \n",
    "    plt.suptitle(f\"Distance to {s_target.split('_')[0]}\",x=.45,y=.95,fontsize=20)\n",
    "    gs.update(bottom = 0.2)\n",
    "    fig.savefig(f'./{s_date}/IntensityvsDistance_{i_diff}s_{s_target}_by_slide_noBx1_bigger.png',dpi=200)\n",
    "    #break"
   ]
  },
  {
   "cell_type": "code",
   "execution_count": null,
   "metadata": {},
   "outputs": [],
   "source": [
    "#by tissue w bx1\n",
    "%matplotlib inline\n",
    "sns.set(style='white')\n",
    "import matplotlib.ticker as tic\n",
    "import warnings\n",
    "warnings.filterwarnings('ignore')\n",
    "tot = 0\n",
    "ls_dist = [25, 50, 75]\n",
    "i_diff = 25\n",
    "ls_slide = ['SMTBx1-16','SMTBx2-5', 'SMTBx3','SMT1Bx4-3'] #'\n",
    "d_slide = {'SMTBx1-16':'Bx1', 'SMTBx2-5':'Bx2', 'SMTBx3':'Bx3','HTA-33':'Bx4-HTAN','SMTBx4-3':'Bx4'}\n",
    "for s_target in  ls_target + ['Vim-CD31-aSMA_dist']: #['CD68_dist','ColI_dist', 'ColIV_dist']:\n",
    "    fig, ax = plt.subplots(4,3, figsize=(7,5),sharex=True,dpi=300)\n",
    "    for idxc, s_slide in enumerate(ls_slide):\n",
    "        df_slide = df[df.slide==s_slide]\n",
    "        for idx, s_marker in enumerate(ls_marker):\n",
    "            df_result = pd.DataFrame(index=df_slide.index)\n",
    "            for s_dist in ls_dist:\n",
    "                b_bool = (df_slide.loc[:,s_target] < s_dist) & (df_slide.loc[:,s_target] >= s_dist - i_diff)\n",
    "                df_result.loc[b_bool,f'{s_marker}_{s_dist}'] = df_slide.loc[b_bool,s_marker]\n",
    "            for  s_col in df_result.columns:\n",
    "                sns.kdeplot(df_result.loc[:,s_col].dropna(), ax=ax[idxc,idx], label=f\"< {s_col.split('_')[2]}\")\n",
    "            if df_result.mean().fillna(0)[2] == 0:\n",
    "                statistic, pvalue = scipy.stats.f_oneway(df_result.iloc[:,0].dropna(),df_result.iloc[:,1].dropna())\n",
    "                #print(pvalue)\n",
    "            else:\n",
    "                statistic, pvalue = scipy.stats.f_oneway(df_result.iloc[:,0].dropna(),df_result.iloc[:,1].dropna(),df_result.iloc[:,2].dropna())\n",
    "            ax[idxc,idx].set_xlabel(f\"{s_col.split('_')[0]} Intensity\",fontsize=18)\n",
    "            ax[idxc,idx].set_ylabel(f\"\")\n",
    "            ax[idxc,idx].set_title(f\"\")\n",
    "            temp = tic.MaxNLocator(3)\n",
    "            ax[idxc,idx].set_yticklabels(())\n",
    "            ax[idxc,idx].xaxis.set_major_locator(temp)\n",
    "            tot+=1\n",
    "            if pvalue < 0.001: # 0.05/30: #bonferoni correction\n",
    "                ax[idxc,idx].text(0.5, 0.8, '*',\n",
    "                     horizontalalignment='center',\n",
    "                     verticalalignment='center',\n",
    "                     transform=ax[idxc,idx].transAxes)\n",
    "            ax[idxc,idx].set_xlim(-1500,7000)\n",
    "            ax[idxc,idx].spines['right'].set_visible(False)\n",
    "            ax[idxc,idx].spines['left'].set_visible(False)\n",
    "            ax[idxc,idx].spines['top'].set_visible(False)\n",
    "        ax[idxc,0].set_ylabel(f\"{d_slide[s_slide]}\",fontsize=18)\n",
    "    ax[0,2].legend(title='$\\mu$m')\n",
    "    plt.subplots_adjust(wspace=.001,hspace=.001)\n",
    "    plt.suptitle(f\"Distance to {s_target.split('_')[0]}\",fontsize=20)\n",
    "    plt.tight_layout()\n",
    "    fig.savefig(f'./{s_date}/IntensityvsDistance_25s_{s_target}_by_slide.png',dpi=300)\n",
    "    #break"
   ]
  },
  {
   "cell_type": "code",
   "execution_count": null,
   "metadata": {},
   "outputs": [],
   "source": []
  },
  {
   "cell_type": "code",
   "execution_count": null,
   "metadata": {},
   "outputs": [],
   "source": [
    "#by tissue w bx1\n",
    "%matplotlib inline\n",
    "sns.set(style='white')\n",
    "import matplotlib.ticker as tic\n",
    "import warnings\n",
    "warnings.filterwarnings('ignore')\n",
    "tot = 0\n",
    "ls_dist = [25, 50, 75]\n",
    "i_diff = 25\n",
    "ls_slide = ['SMTBx2-5', 'SMTBx3','SMT1Bx4-3'] #'SMTBx1-16',\n",
    "d_slide = {'SMTBx1-16':'Bx1', 'SMTBx2-5':'Bx2', 'SMTBx3':'Bx3','HTA-33':'Bx4-HTAN','SMTBx4-3':'Bx4'}\n",
    "for s_target in ['ColI_dist', 'ColIV_dist']:\n",
    "    fig, ax = plt.subplots(3,3, figsize=(7,4),sharex=True)\n",
    "    for idxc, s_slide in enumerate(ls_slide):\n",
    "        df_slide = df[df.slide==s_slide]\n",
    "        for idx, s_marker in enumerate(ls_marker):\n",
    "            df_result = pd.DataFrame(index=df_slide.index)\n",
    "            for s_dist in ls_dist:\n",
    "                b_bool = (df_slide.loc[:,s_target] < s_dist) & (df_slide.loc[:,s_target] >= s_dist - i_diff)\n",
    "                df_result.loc[b_bool,f'{s_marker}_{s_dist}'] = df_slide.loc[b_bool,s_marker]\n",
    "            for  s_col in df_result.columns:\n",
    "                sns.kdeplot(df_result.loc[:,s_col].dropna(), ax=ax[idxc,idx], label=f\"< {s_col.split('_')[2]}\")\n",
    "            if df_result.mean().fillna(0)[2] == 0:\n",
    "                statistic, pvalue = scipy.stats.f_oneway(df_result.iloc[:,0].dropna(),df_result.iloc[:,1].dropna())\n",
    "                #print(pvalue)\n",
    "            else:\n",
    "                statistic, pvalue = scipy.stats.f_oneway(df_result.iloc[:,0].dropna(),df_result.iloc[:,1].dropna(),df_result.iloc[:,2].dropna())\n",
    "            ax[idxc,idx].set_xlabel(f\"{s_col.split('_')[0]} Intensity\")\n",
    "            ax[idxc,idx].set_ylabel(f\"\")\n",
    "            ax[idxc,idx].set_title(f\"\")\n",
    "            temp = tic.MaxNLocator(3)\n",
    "            ax[idxc,idx].set_yticklabels(())\n",
    "            ax[idxc,idx].xaxis.set_major_locator(temp)\n",
    "            tot+=1\n",
    "            if pvalue < 0.001: # 0.05/30: #bonferoni correction\n",
    "                ax[idxc,idx].text(0.5, 0.8, '*',\n",
    "                     horizontalalignment='center',\n",
    "                     verticalalignment='center',\n",
    "                     transform=ax[idxc,idx].transAxes)\n",
    "            ax[idxc,idx].set_xlim(-1500,7000)\n",
    "            ax[idxc,idx].spines['right'].set_visible(False)\n",
    "            ax[idxc,idx].spines['left'].set_visible(False)\n",
    "            ax[idxc,idx].spines['top'].set_visible(False)\n",
    "        ax[idxc,0].set_ylabel(f\"{d_slide[s_slide]}\")\n",
    "    ax[0,2].legend(title='$\\mu$m')\n",
    "    plt.subplots_adjust(wspace=.001,hspace=.001)\n",
    "    plt.suptitle(f\"Distance to {s_target.split('_')[0]}\")\n",
    "    plt.tight_layout()\n",
    "    fig.savefig(f'./{s_date}/IntensityvsDistance_25s_{s_target}_by_slide.png',dpi=200)\n",
    "    #break"
   ]
  }
 ],
 "metadata": {
  "kernelspec": {
   "display_name": "Python3.9.5",
   "language": "python",
   "name": "python3.9.5"
  },
  "language_info": {
   "codemirror_mode": {
    "name": "ipython",
    "version": 3
   },
   "file_extension": ".py",
   "mimetype": "text/x-python",
   "name": "python",
   "nbconvert_exporter": "python",
   "pygments_lexer": "ipython3",
   "version": "3.9.5"
  }
 },
 "nbformat": 4,
 "nbformat_minor": 4
}
